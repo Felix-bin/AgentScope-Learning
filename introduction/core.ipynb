{
 "cells": [
  {
   "cell_type": "markdown",
   "id": "c8515526",
   "metadata": {},
   "source": [
    "# 核心概念"
   ]
  },
  {
   "cell_type": "markdown",
   "id": "335e890b",
   "metadata": {},
   "source": [
    "## 状态\n",
    "\n",
    "状态（State）管理是 AgentScope 框架构建的基础。其中，状态表示对象运行时某一时刻数据的快照。\n",
    "AgentScope 将对象的“初始化”与“状态管理”分离，对象在初始化后通过 load_state_dict 和 state_dict 方法恢复到不同的状态，或导出当前的状态。\n",
    "在 AgentScope 中，智能体（Agent）、记忆（memory）、长期记忆（Long-term memory）和工具模块（toolkit）都是有状态的对象。 AgentScope 通过支持嵌套式的状态管理，将这些对象的状态管理联系起来。"
   ]
  },
  {
   "cell_type": "markdown",
   "id": "c0e7fab8",
   "metadata": {},
   "source": [
    "## 消息\n",
    "消息（message）是 AgentScope 最核心的数据结构，用于在智能体之间交换信息，在用户交互界面显示信息，在记忆中存储信息，作为 AgentScope 与不同 LLM API 之间的统一媒介。"
   ]
  },
  {
   "cell_type": "markdown",
   "id": "28341c6d",
   "metadata": {},
   "source": [
    "## 工具\n",
    "AgentScope 中的“工具”指的是可调用的 Python 对象，包括\n",
    "- 函数，\n",
    "- 偏函数（Partial function），\n",
    "- 实例方法，\n",
    "- 类方法，\n",
    "- 静态方法，以及带有 __call__ 方法的可调用实例。\n",
    "\n",
    "此外，可调用对象可以是\n",
    "异步或同步调用的，\n",
    "流式或非流式返回结果的。\n",
    "因此，请放心在 AgentScope 中使用任何调用对象作为智能体的工具。"
   ]
  },
  {
   "cell_type": "markdown",
   "id": "951f61c6",
   "metadata": {},
   "source": [
    "## 智能体\n",
    "在 AgentScope 中，智能体（Agent）行为被抽象为 AgentBase 类中的三个核心函数：\n",
    "- reply：处理传入的消息并生成响应消息。\n",
    "- observe：接收来自环境或其它智能体的消息，但不返回响应。\n",
    "- print：将消息显示到目标输出（例如终端、Web 界面）。\n",
    "为了支持用户实时介入（Realtime Steering），AgentScope 提供了额外 的 handle_interrupt 函数来处理智能体回复过程中的用户中断。\n",
    "\n",
    "此外，ReAct 智能体是 AgentScope 中最重要的智能体，该智能体的回复过程分为两个阶段：\n",
    "\n",
    "推理（Reasoning）：通过调用 LLM 进行推理并生成工具调用\n",
    "\n",
    "行动（Acting）：执行工具函数。\n",
    "\n",
    "因此，我们在 ReActAgentBase 类中提供了两个额外的核心函数，_reasoning 和 _acting。"
   ]
  },
  {
   "cell_type": "markdown",
   "id": "b834b280",
   "metadata": {},
   "source": [
    "## 提示词格式化\n",
    "提示词格式化器（Prompt Formatter）是 AgentScope 中保证 LLM 兼容性的核心组件，负责将消息对象转换为 LLM API 所需的格式。\n",
    "\n",
    "此外，诸如提示工程、截断和消息验证等附加功能也可以在格式化器中实现。\n",
    "\n",
    "在格式化器中，\"多智能体\"（或\"多实体\"）概念与常见的多智能体编排概念不同。 它专注于给定消息中包含多个身份实体的场景，因此 LLM API 中常用的 role 字段（通常取值为 \"user\"、\"assistant\" 或 \"system\"）无法区分它们。\n",
    "\n",
    "因此，AgentScope 提供 MultiAgentFormatter 来处理这种场景，通常用于游戏、多人聊天和社交仿真。"
   ]
  },
  {
   "cell_type": "markdown",
   "id": "45c440c1",
   "metadata": {},
   "source": [
    "## 长期记忆\n",
    "虽然 AgentScope 为短期记忆和长期记忆提供了不同的基类，但是 AgentScope 中并没有严格区分它们的作用。\n",
    "\n",
    "在我们看来，一切都应该是 需求驱动的。只要开发者的需求得到了很好的满足，完全可以只使用一个强大的记忆系统。\n",
    "\n",
    "这里为了确保 AgentScope 的灵活性，我们为长期记忆提供了两种运行和管理方式，开发者可以根据自己的需要进行选择。 其中“agent_control”模式允许智能体自己主动管理长期记忆，而“static_control”则是传统的由开发者管理的长期记忆 模式。"
   ]
  },
  {
   "cell_type": "code",
   "execution_count": null,
   "id": "244782dc",
   "metadata": {},
   "outputs": [],
   "source": []
  }
 ],
 "metadata": {
  "kernelspec": {
   "display_name": "werewolves",
   "language": "python",
   "name": "python3"
  },
  "language_info": {
   "codemirror_mode": {
    "name": "ipython",
    "version": 3
   },
   "file_extension": ".py",
   "mimetype": "text/x-python",
   "name": "python",
   "nbconvert_exporter": "python",
   "pygments_lexer": "ipython3",
   "version": "3.12.3"
  }
 },
 "nbformat": 4,
 "nbformat_minor": 5
}
