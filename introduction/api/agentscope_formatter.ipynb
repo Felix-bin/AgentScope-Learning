{
 "cells": [
  {
   "cell_type": "markdown",
   "id": "6d4b808e",
   "metadata": {},
   "source": [
    "# agentscope.formatter "
   ]
  },
  {
   "cell_type": "markdown",
   "id": "8003ff65",
   "metadata": {},
   "source": [
    "agentscope.formatter 模块是 AgentScope 框架中用于将内部消息对象（Msg）格式化为符合各大 LLM API（如 OpenAI、DashScope、Anthropic、Gemini 等）输入格式的关键组件。其核心目标是： \n",
    "\n",
    "- 将统一的 Msg 对象（可能包含文本、图像、工具调用等）转换为各模型 API 所需的字典列表；\n",
    "- 支持多模态（vision/audio/video）；\n",
    "- 支持工具调用（function/tool calling）；\n",
    "- 支持多智能体对话（multi-agent）场景；\n",
    "- 可选支持按 token 数截断（truncation）。\n",
    "\n",
    "主要 Formatter 类\n",
    "1. OpenAIChatFormatter - 适用于 OpenAI GPT 系列\n",
    "2. DashScopeChatFormatter - 适用于阿里云通义千问\n",
    "3. AnthropicChatFormatter - 适用于 Anthropic Claude\n",
    "4. GeminiChatFormatter - 适用于 Google Gemini\n",
    "5. OllamaChatFormatter - 适用于 Ollama 本地模型"
   ]
  },
  {
   "cell_type": "code",
   "execution_count": 11,
   "id": "2524ae98",
   "metadata": {},
   "outputs": [
    {
     "name": "stderr",
     "output_type": "stream",
     "text": [
      "2025-10-02 23:01:00,957 | WARNING | _dashscope_formatter:_format:206 - Unsupported block type None in the message, skipped.\n",
      "2025-10-02 23:01:00,958 | WARNING | _dashscope_formatter:_format:206 - Unsupported block type None in the message, skipped.\n"
     ]
    },
    {
     "name": "stdout",
     "output_type": "stream",
     "text": [
      "修正后的工具调用格式化结果:\n",
      "消息 1: {'role': 'user', 'content': \"What's the weather in Beijing?\"}\n",
      "--------------------------------------------------\n"
     ]
    }
   ],
   "source": [
    "import asyncio\n",
    "from agentscope.message import Msg, ToolUseBlock, ToolResultBlock\n",
    "from agentscope.formatter import DashScopeChatFormatter\n",
    "\n",
    "# 修正工具调用示例\n",
    "tool_use = ToolUseBlock(\n",
    "    tool_name=\"get_weather\",\n",
    "    args={\"location\": \"Beijing\"}\n",
    ")\n",
    "\n",
    "tool_result = ToolResultBlock(\n",
    "    content=\"Sunny, 25°C\",\n",
    "    tool_name=\"get_weather\"\n",
    ")\n",
    "\n",
    "# 修正：tool result 的 role 应该是 \"tool\"\n",
    "msgs = [\n",
    "    Msg(name=\"user\", content=\"What's the weather in Beijing?\", role=\"user\"),\n",
    "    Msg(name=\"assistant\", content=[tool_use], role=\"assistant\"),\n",
    "    Msg(name=\"tool\", content=[tool_result], role=\"assistant\"),  # 修正这里\n",
    "]\n",
    "\n",
    "formatter = DashScopeChatFormatter()\n",
    "\n",
    "formatted = await formatter.format(msgs)\n",
    "print(\"修正后的工具调用格式化结果:\")\n",
    "for i, msg in enumerate(formatted):\n",
    "    print(f\"消息 {i+1}: {msg}\")\n",
    "    print(\"-\" * 50)"
   ]
  },
  {
   "cell_type": "code",
   "execution_count": 12,
   "id": "d6345cbe",
   "metadata": {},
   "outputs": [
    {
     "name": "stdout",
     "output_type": "stream",
     "text": [
      "=== 基本文本对话 - DashScope 格式 ===\n",
      "消息 1: {'role': 'user', 'content': '你好，请介绍一下通义千问'}\n",
      "消息 2: {'role': 'assistant', 'content': '通义千问是阿里云开发的大语言模型，具有强大的中文理解和生成能力。'}\n",
      "消息 3: {'role': 'user', 'content': '它有哪些主要特点？'}\n",
      "\n"
     ]
    }
   ],
   "source": [
    "async def basic_text_example():\n",
    "    \"\"\"基本文本对话 - DashScope 格式\"\"\"\n",
    "    msgs = [\n",
    "        Msg(name=\"user\", content=\"你好，请介绍一下通义千问\", role=\"user\"),\n",
    "        Msg(name=\"assistant\", content=\"通义千问是阿里云开发的大语言模型，具有强大的中文理解和生成能力。\", role=\"assistant\"),\n",
    "        Msg(name=\"user\", content=\"它有哪些主要特点？\", role=\"user\")\n",
    "    ]\n",
    "    \n",
    "    formatter = DashScopeChatFormatter()\n",
    "    formatted = await formatter.format(msgs)\n",
    "    \n",
    "    print(\"=== 基本文本对话 - DashScope 格式 ===\")\n",
    "    for i, msg in enumerate(formatted):\n",
    "        print(f\"消息 {i+1}: {msg}\")\n",
    "    print()\n",
    "\n",
    "await basic_text_example()"
   ]
  },
  {
   "cell_type": "code",
   "execution_count": 13,
   "id": "806cf46f",
   "metadata": {},
   "outputs": [
    {
     "name": "stdout",
     "output_type": "stream",
     "text": [
      "=== 系统消息示例 - DashScope 格式 ===\n",
      "{'role': 'system', 'content': '你是一个专业的Python编程助手，请用简洁明了的语言回答问题。'}\n",
      "{'role': 'user', 'content': '如何在Python中创建一个列表？'}\n",
      "{'role': 'assistant', 'content': '在Python中，可以使用方括号[]创建列表，例如：my_list = [1, 2, 3]'}\n",
      "\n"
     ]
    }
   ],
   "source": [
    "async def system_message_example():\n",
    "    \"\"\"系统消息示例\"\"\"\n",
    "    msgs = [\n",
    "        Msg(name=\"system\", content=\"你是一个专业的Python编程助手，请用简洁明了的语言回答问题。\", role=\"system\"),\n",
    "        Msg(name=\"user\", content=\"如何在Python中创建一个列表？\", role=\"user\"),\n",
    "        Msg(name=\"assistant\", content=\"在Python中，可以使用方括号[]创建列表，例如：my_list = [1, 2, 3]\", role=\"assistant\")\n",
    "    ]\n",
    "    \n",
    "    formatter = DashScopeChatFormatter()\n",
    "    formatted = await formatter.format(msgs)\n",
    "    \n",
    "    print(\"=== 系统消息示例 - DashScope 格式 ===\")\n",
    "    for msg in formatted:\n",
    "        print(msg)\n",
    "    print()\n",
    "\n",
    "await system_message_example()"
   ]
  },
  {
   "cell_type": "code",
   "execution_count": 14,
   "id": "d7ba7835",
   "metadata": {},
   "outputs": [
    {
     "name": "stdout",
     "output_type": "stream",
     "text": [
      "=== 多轮对话示例 - DashScope 格式 ===\n",
      "总共 5 条消息\n",
      "第 1 条: role=user, content长度=17\n",
      "第 2 条: role=assistant, content长度=127\n",
      "第 3 条: role=user, content长度=13\n",
      "第 4 条: role=assistant, content长度=176\n",
      "第 5 条: role=user, content长度=18\n",
      "\n"
     ]
    }
   ],
   "source": [
    "# 3. 多轮对话示例\n",
    "async def multi_turn_conversation():\n",
    "    \"\"\"多轮对话示例\"\"\"\n",
    "    msgs = [\n",
    "        Msg(name=\"user\", content=\"请帮我写一个计算斐波那契数列的函数\", role=\"user\"),\n",
    "        Msg(name=\"assistant\", content=\"好的，我来为您写一个斐波那契数列函数：\\n\\n```python\\ndef fibonacci(n):\\n    if n <= 1:\\n        return n\\n    return fibonacci(n-1) + fibonacci(n-2)\\n```\", role=\"assistant\"),\n",
    "        Msg(name=\"user\", content=\"这个函数有什么优化方法吗？\", role=\"user\"),\n",
    "        Msg(name=\"assistant\", content=\"是的，这个递归版本效率较低。可以使用动态规划优化：\\n\\n```python\\ndef fibonacci_dp(n):\\n    if n <= 1:\\n        return n\\n    a, b = 0, 1\\n    for _ in range(2, n + 1):\\n        a, b = b, a + b\\n    return b\\n```\", role=\"assistant\"),\n",
    "        Msg(name=\"user\", content=\"谢谢，能解释一下时间复杂度的差异吗？\", role=\"user\")\n",
    "    ]\n",
    "    \n",
    "    formatter = DashScopeChatFormatter()\n",
    "    formatted = await formatter.format(msgs)\n",
    "    \n",
    "    print(\"=== 多轮对话示例 - DashScope 格式 ===\")\n",
    "    print(f\"总共 {len(formatted)} 条消息\")\n",
    "    for i, msg in enumerate(formatted):\n",
    "        print(f\"第 {i+1} 条: role={msg['role']}, content长度={len(msg['content'])}\")\n",
    "    print()\n",
    "\n",
    "await multi_turn_conversation()"
   ]
  },
  {
   "cell_type": "code",
   "execution_count": 17,
   "id": "2f038208",
   "metadata": {},
   "outputs": [
    {
     "name": "stderr",
     "output_type": "stream",
     "text": [
      "2025-10-02 23:03:21,199 | WARNING | _dashscope_formatter:_format:206 - Unsupported block type None in the message, skipped.\n",
      "2025-10-02 23:03:21,201 | WARNING | _dashscope_formatter:_format:206 - Unsupported block type None in the message, skipped.\n",
      "2025-10-02 23:03:21,201 | WARNING | _dashscope_formatter:_format:206 - Unsupported block type None in the message, skipped.\n",
      "2025-10-02 23:03:21,202 | WARNING | _dashscope_formatter:_format:206 - Unsupported block type None in the message, skipped.\n"
     ]
    },
    {
     "name": "stdout",
     "output_type": "stream",
     "text": [
      "=== 复杂工具调用示例 - DashScope 格式 ===\n",
      "消息 1:\n",
      "  role: user\n",
      "  content: 请搜索Python最新版本的特性，并生成示例代码\n",
      "\n",
      "消息 2:\n",
      "  role: assistant\n",
      "  content: 根据搜索结果，我为您生成了Python 3.12的新特性示例代码。\n",
      "\n"
     ]
    }
   ],
   "source": [
    "# 4. 复杂工具调用示例\n",
    "async def complex_tool_example():\n",
    "    \"\"\"复杂工具调用示例\"\"\"\n",
    "    # 第一个工具调用\n",
    "    search_tool = ToolUseBlock(\n",
    "        tool_name=\"web_search\",\n",
    "        args={\"query\": \"Python 最新版本特性\", \"count\": 5}\n",
    "    )\n",
    "    \n",
    "    search_result = ToolResultBlock(\n",
    "        content=\"Python 3.12 引入了新的类型注解语法、性能优化等特性\",\n",
    "        tool_name=\"web_search\"\n",
    "    )\n",
    "    \n",
    "    # 第二个工具调用\n",
    "    code_tool = ToolUseBlock(\n",
    "        tool_name=\"code_generator\",\n",
    "        args={\"language\": \"python\", \"description\": \"展示Python 3.12新特性\"}\n",
    "    )\n",
    "    \n",
    "    code_result = ToolResultBlock(\n",
    "        content=\"# Python 3.12 新特性示例\\ntype Point = tuple[float, float]  # 新的类型别名语法\",\n",
    "        tool_name=\"code_generator\"\n",
    "    )\n",
    "    \n",
    "    msgs = [\n",
    "        Msg(name=\"user\", content=\"请搜索Python最新版本的特性，并生成示例代码\", role=\"user\"),\n",
    "        Msg(name=\"assistant\", content=[search_tool], role=\"assistant\"),\n",
    "        Msg(name=\"tool\", content=[search_result], role=\"assistant\"),\n",
    "        Msg(name=\"assistant\", content=[code_tool], role=\"assistant\"),\n",
    "        Msg(name=\"tool\", content=[code_result], role=\"assistant\"),\n",
    "        Msg(name=\"assistant\", content=\"根据搜索结果，我为您生成了Python 3.12的新特性示例代码。\", role=\"assistant\")\n",
    "    ]\n",
    "    \n",
    "    formatter = DashScopeChatFormatter()\n",
    "    formatted = await formatter.format(msgs)\n",
    "    \n",
    "    print(\"=== 复杂工具调用示例 - DashScope 格式 ===\")\n",
    "    for i, msg in enumerate(formatted):\n",
    "        print(f\"消息 {i+1}:\")\n",
    "        print(f\"  role: {msg['role']}\")\n",
    "        if 'content' in msg:\n",
    "            content = msg['content']\n",
    "            if isinstance(content, str):\n",
    "                print(f\"  content: {content[:100]}{'...' if len(content) > 100 else ''}\")\n",
    "            else:\n",
    "                print(f\"  content: {content}\")\n",
    "        if 'tool_calls' in msg:\n",
    "            print(f\"  tool_calls: {msg['tool_calls']}\")\n",
    "        print()\n",
    "await complex_tool_example()"
   ]
  },
  {
   "cell_type": "code",
   "execution_count": 18,
   "id": "c4023f03",
   "metadata": {},
   "outputs": [
    {
     "name": "stdout",
     "output_type": "stream",
     "text": [
      "空消息列表格式化结果: []\n",
      "格式化过程中出现错误: \n"
     ]
    }
   ],
   "source": [
    "# 5. 错误处理示例\n",
    "async def error_handling_example():\n",
    "    \"\"\"错误处理示例\"\"\"\n",
    "    try:\n",
    "        # 测试空消息列表\n",
    "        empty_msgs = []\n",
    "        formatter = DashScopeChatFormatter()\n",
    "        formatted = await formatter.format(empty_msgs)\n",
    "        print(\"空消息列表格式化结果:\", formatted)\n",
    "        \n",
    "        # 测试包含无效角色的消息\n",
    "        invalid_msgs = [\n",
    "            Msg(name=\"invalid_role\", content=\"测试无效角色\", role=\"invalid\")\n",
    "        ]\n",
    "        formatted = await formatter.format(invalid_msgs)\n",
    "        print(\"无效角色消息格式化结果:\", formatted)\n",
    "        \n",
    "    except Exception as e:\n",
    "        print(f\"格式化过程中出现错误: {e}\")\n",
    "\n",
    "await error_handling_example()"
   ]
  }
 ],
 "metadata": {
  "kernelspec": {
   "display_name": "werewolves",
   "language": "python",
   "name": "python3"
  },
  "language_info": {
   "codemirror_mode": {
    "name": "ipython",
    "version": 3
   },
   "file_extension": ".py",
   "mimetype": "text/x-python",
   "name": "python",
   "nbconvert_exporter": "python",
   "pygments_lexer": "ipython3",
   "version": "3.12.3"
  }
 },
 "nbformat": 4,
 "nbformat_minor": 5
}
