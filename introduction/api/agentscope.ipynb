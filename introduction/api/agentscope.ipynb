{
 "cells": [
  {
   "cell_type": "markdown",
   "id": "c72f67aa",
   "metadata": {},
   "source": [
    "### init(project=None, name=None, logging_path=None, logging_level='INFO', studio_url=None, tracing_url=None)\n",
    "参数:\n",
    "- project (str | None, optional) -- The project name.\n",
    "\n",
    "- name (str | None, optional) -- The name of the run.\n",
    "\n",
    "- logging_path (str | None, optional) -- The path to saving the log file. If not provided, logs will not be saved.\n",
    "\n",
    "- logging_level (str | None, optional) -- The logging level. Defaults to \"INFO\".\n",
    "\n",
    "- studio_url (str | None, optional) -- The URL of the AgentScope Studio to connect to.\n",
    "\n",
    "- tracing_url (str | None, optional) -- The URL of the tracing endpoint, which can connect to third-party OpenTelemetry tracing platforms like Arize-Phoenix and Langfuse. If not provided and studio_url is provided, it will send traces to the AgentScope Studio's tracing endpoint.\n",
    "\n",
    "返回类型:\n",
    "    None\n",
    "\n",
    "agentscope.init() 的主要作用如下\n",
    "\n",
    "- 设置项目和运行名称：便于在日志或可视化平台中区分不同实验。\n",
    "- 配置日志输出：可将运行日志保存到指定路径，并设置日志级别（如 INFO、DEBUG 等）。\n",
    "- 连接 AgentScope Studio：用于可视化调试、监控智能体行为。\n",
    "- 连接追踪系统（Tracing）：支持对接如 Langfuse、Arize Phoenix 等 OpenTelemetry 兼容平台，用于追踪智能体调用链。\n",
    "\n",
    "通常在程序入口（如 main.py 开头）调用一次 agentscope.init() 即可。所有后续创建的 Agent、调用的消息流等都会自动被记录和追踪（前提是配置了日志或 tracing）。\n"
   ]
  },
  {
   "cell_type": "code",
   "execution_count": 4,
   "id": "861b6ea9",
   "metadata": {},
   "outputs": [],
   "source": [
    "import agentscope\n",
    "\n",
    "agentscope.init(\n",
    "    project=\"MyProject\",\n",
    "    name=\"Test\",\n",
    "    logging_path=\"test\"\n",
    "    \".log\",\n",
    "    logging_level=\"INFO\"\n",
    ")"
   ]
  },
  {
   "cell_type": "markdown",
   "id": "9646c743",
   "metadata": {},
   "source": [
    "### setup_logger(level, filepath=None)[源代码]\n",
    "\n",
    "参数:\n",
    "- level (str) -- The logging level, chosen from \"INFO\", \"DEBUG\", \"WARNING\", \"ERROR\", \"CRITICAL\".\n",
    "\n",
    "- filepath (str | None, optional) -- The filepath to save the logging output.\n",
    "\n",
    "返回类型:\n",
    "None\n",
    "\n",
    "该函数用于：\n",
    "\n",
    "- 设置 AgentScope 内部日志的输出级别（如 INFO、DEBUG 等）\n",
    "- 可选地将日志写入指定文件\n",
    "\n",
    "它与 agentscope.init() 中的日志配置功能部分重叠，但更底层、更轻量。如果你不需要项目管理、Studio 连接或追踪（tracing），只想快速启用日志，可以直接用 setup_logger。"
   ]
  },
  {
   "cell_type": "code",
   "execution_count": 6,
   "id": "70f4a0de",
   "metadata": {},
   "outputs": [],
   "source": [
    "import agentscope\n",
    "\n",
    "agentscope.setup_logger(level=\"INFO\") #也可以启用其他级别的日至输出"
   ]
  }
 ],
 "metadata": {
  "kernelspec": {
   "display_name": "werewolves",
   "language": "python",
   "name": "python3"
  },
  "language_info": {
   "codemirror_mode": {
    "name": "ipython",
    "version": 3
   },
   "file_extension": ".py",
   "mimetype": "text/x-python",
   "name": "python",
   "nbconvert_exporter": "python",
   "pygments_lexer": "ipython3",
   "version": "3.12.3"
  }
 },
 "nbformat": 4,
 "nbformat_minor": 5
}
