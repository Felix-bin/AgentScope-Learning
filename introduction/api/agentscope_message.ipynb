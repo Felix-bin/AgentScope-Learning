{
 "cells": [
  {
   "cell_type": "markdown",
   "id": "0f014ff3",
   "metadata": {},
   "source": [
    "# agentscope.message"
   ]
  },
  {
   "cell_type": "markdown",
   "id": "cae97474",
   "metadata": {},
   "source": [
    "agentsope.message 定义了结构化消息模块（Msg）及其内容块（TextBlock, ThinkingBlock, Base64Source, URLSource, ImageBlock, AudioBlock, VideoBlock, ToolUseBlock, ToolResultBlock）。用于在多模态、工具调用等复杂智能体（Agent）交互中统一消息格式。"
   ]
  },
  {
   "cell_type": "markdown",
   "id": "94e57cf5",
   "metadata": {},
   "source": [
    "## Class Msg\n",
    "    消息主体，支持两种内容格式：\n",
    "1. 纯文本字符串\n",
    "2. 结构化内容块列表（多模态和工具调用）\n",
    "\n",
    "初始化参数：\n",
    "### __init__(name, content, role, metadata=None, timestamp=None, invocation_id=None)\n",
    "Initialize the Msg object.\n",
    "\n",
    "参数:\n",
    "- name (str) -- 发送者名称\n",
    "\n",
    "- content (str | list[ContentBlock]) -- 发送内容：字符串或字符串列表\n",
    "\n",
    "- role (Literal[\"user\", \"assistant\", \"system\"]) -- 角色\n",
    "\n",
    "- metadata (dict[str, JSONSerializableObject] | None, optional) -- 附加的结构化数据\n",
    "\n",
    "- timestamp (str | None, optional) -- 时间戳\n",
    "\n",
    "- invocation_id (str | None, optional) -- API调用ID，用于追踪\n",
    "\n",
    "返回类型:\n",
    "None\n",
    "\n",
    "### to_dict()\n",
    "Convert the message into JSON dict data.\n",
    "\n",
    "返回类型:\n",
    "dict\n",
    "\n",
    "### classmethod from_dict(json_data)\n",
    "Load a message object from the given JSON data.\n",
    "\n",
    "参数:\n",
    "json_data (dict)\n",
    "\n",
    "返回类型:\n",
    "Msg\n",
    "\n",
    "### has_content_blocks(block_type=None)\n",
    "Check if the message has content blocks of the given type.\n",
    "\n",
    "参数:\n",
    "block_type (Literal[\"text\", \"tool_use\", \"tool_result\", \"image\", \"audio\", \"video\"] | None, defaults to None) -- The type of the block to be checked. If None, it will check if there are any content blocks.\n",
    "\n",
    "返回类型:\n",
    "bool\n",
    "\n",
    "### get_text_content()\n",
    "Get the pure text blocks from the message content.\n",
    "\n",
    "返回类型:\n",
    "str | None\n",
    "\n",
    "### get_content_blocks(block_type)\n",
    "get_content_blocks(block_type: Literal['text']) → List[TextBlock]\n",
    "get_content_blocks(block_type: Literal['tool_use']) → List[ToolUseBlock]\n",
    "get_content_blocks(block_type: Literal['tool_result']) → List[ToolResultBlock]\n",
    "get_content_blocks(block_type: Literal['image']) → List[ImageBlock]\n",
    "get_content_blocks(block_type: Literal['audio']) → List[AudioBlock]\n",
    "get_content_blocks(block_type: Literal['video']) → List[VideoBlock]\n",
    "get_content_blocks(block_type: None = None) → List[ToolUseBlock | ToolResultBlock | TextBlock | ThinkingBlock | ImageBlock | AudioBlock | VideoBlock]\n",
    "Get the content in block format. If the content is a string, it will be converted to a text block.\n",
    "\n",
    "参数:\n",
    "block_type (Literal[\"text\", \"thinking\", \"tool_use\", \"tool_result\", \"image\", \"audio\", \"video\"] | None, optional) -- The type of the block to be extracted. If None, all blocks will be returned.\n",
    "\n",
    "返回:\n",
    "The content blocks.\n",
    "\n",
    "返回类型:\n",
    "List[ContentBlock]"
   ]
  },
  {
   "cell_type": "code",
   "execution_count": 1,
   "id": "44c0e511",
   "metadata": {},
   "outputs": [
    {
     "name": "stdout",
     "output_type": "stream",
     "text": [
      "你好，请帮我查天气。\n"
     ]
    }
   ],
   "source": [
    "# 纯文本消息\n",
    "from agentscope.message import Msg\n",
    "\n",
    "msg = Msg(\n",
    "    name=\"user\",\n",
    "    content=\"你好，请帮我查天气。\",\n",
    "    role=\"user\"\n",
    ")\n",
    "print(msg.content)  # 输出: \"你好，请帮我查天气。\""
   ]
  },
  {
   "cell_type": "code",
   "execution_count": null,
   "id": "c3cc5703",
   "metadata": {},
   "outputs": [
    {
     "name": "stdout",
     "output_type": "stream",
     "text": [
      "True\n",
      "get_weather\n"
     ]
    }
   ],
   "source": [
    "# 多模态+工具调用消息\n",
    "from agentscope.message import Msg, TextBlock, ToolUseBlock, ImageBlock, URLSource\n",
    "\n",
    "# 构造内容块\n",
    "blocks = [\n",
    "    TextBlock(type=\"text\", text=\"我需要查询北京天气，并附上一张地图。\"),\n",
    "    ImageBlock(type=\"image\", source=URLSource(type=\"url\", url=\"https://picsum.photos/400/400?random=1\")),\n",
    "    ToolUseBlock(\n",
    "        type=\"tool_use\",\n",
    "        id=\"tool_001\",\n",
    "        name=\"get_weather\",\n",
    "        input={\"location\": \"Beijing\"}\n",
    "    )\n",
    "    # 其他的查找官方API文档给的参数，操作类似\n",
    "]\n",
    "\n",
    "msg = Msg(\n",
    "    name=\"user\",\n",
    "    content=blocks,\n",
    "    role=\"user\"\n",
    ")\n",
    "\n",
    "# 检查是否包含工具调用\n",
    "print(msg.has_content_blocks(\"tool_use\"))  # True\n",
    "\n",
    "# 提取工具调用块\n",
    "tool_calls = msg.get_content_blocks(\"tool_use\")\n",
    "print(tool_calls[0][\"name\"])  # \"get_weather\""
   ]
  },
  {
   "cell_type": "code",
   "execution_count": 10,
   "id": "eda1baf5",
   "metadata": {},
   "outputs": [
    {
     "data": {
      "text/plain": [
       "{'source': {'url': 'https://picsum.photos/400/400?random=1'}}"
      ]
     },
     "execution_count": 10,
     "metadata": {},
     "output_type": "execute_result"
    }
   ],
   "source": [
    "# ImageBlock （支持Base64和URL）\n",
    "from agentscope.message import ImageBlock, URLSource, Base64Source\n",
    "# 方式1： URL\n",
    "ImageBlock(source=URLSource(url=\"https://picsum.photos/400/400?random=1\"))"
   ]
  },
  {
   "cell_type": "code",
   "execution_count": 11,
   "id": "f72e9f1d",
   "metadata": {},
   "outputs": [
    {
     "data": {
      "text/plain": [
       "{'source': {'media_type': 'image/jpeg', 'data': '/9j/4AAQSkZJRgABAQE...'}}"
      ]
     },
     "execution_count": 11,
     "metadata": {},
     "output_type": "execute_result"
    }
   ],
   "source": [
    "# 方式2：Base64\n",
    "ImageBlock(source=Base64Source(\n",
    "    media_type=\"image/jpeg\",\n",
    "    data=\"/9j/4AAQSkZJRgABAQE...\"\n",
    "))"
   ]
  },
  {
   "cell_type": "code",
   "execution_count": 13,
   "id": "cd1544aa",
   "metadata": {},
   "outputs": [
    {
     "data": {
      "text/plain": [
       "{'id': 'call_img',\n",
       " 'name': 'generate_image',\n",
       " 'output': [{'source': {'url': 'https://picsum.photos/400/400?random=1'}}]}"
      ]
     },
     "execution_count": 13,
     "metadata": {},
     "output_type": "execute_result"
    }
   ],
   "source": [
    "from agentscope.message import ToolResultBlock\n",
    "\n",
    "ToolResultBlock(\n",
    "    id=\"call_123\",  # 必须与 ToolUseBlock.id 匹配\n",
    "    name=\"search_web\",\n",
    "    output=\"AgentScope v0.2.0 已发布...\"\n",
    ")\n",
    "# output 也可以是多模态内容：\n",
    "ToolResultBlock(\n",
    "    id=\"call_img\",\n",
    "    name=\"generate_image\",\n",
    "    output=[\n",
    "        ImageBlock(source=URLSource(url=\"https://picsum.photos/400/400?random=1\"))\n",
    "    ]\n",
    ")"
   ]
  }
 ],
 "metadata": {
  "kernelspec": {
   "display_name": "werewolves",
   "language": "python",
   "name": "python3"
  },
  "language_info": {
   "codemirror_mode": {
    "name": "ipython",
    "version": 3
   },
   "file_extension": ".py",
   "mimetype": "text/x-python",
   "name": "python",
   "nbconvert_exporter": "python",
   "pygments_lexer": "ipython3",
   "version": "3.12.3"
  }
 },
 "nbformat": 4,
 "nbformat_minor": 5
}
