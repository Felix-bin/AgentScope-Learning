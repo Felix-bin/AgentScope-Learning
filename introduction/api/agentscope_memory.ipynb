{
 "cells": [
  {
   "cell_type": "markdown",
   "id": "5c89380d",
   "metadata": {},
   "source": [
    "# agentscope.memory"
   ]
  },
  {
   "cell_type": "markdown",
   "id": "1d8e6429",
   "metadata": {},
   "source": [
    "agentscope.memory 模块是 AgentScope 框架中用于管理 智能体记忆（Memory） 的核心组件，分为两类： \n",
    "- 短期记忆（Short-term Memory）：对话历史，通常由 InMemoryMemory 实现。\n",
    "- 长期记忆（Long-term Memory）：持久化、可检索的知识库，由 LongTermMemoryBase 及其实现（如 Mem0LongTermMemory）提供。\n",
    "     "
   ]
  },
  {
   "cell_type": "markdown",
   "id": "f76c496c",
   "metadata": {},
   "source": [
    "## 一、MemoryBase（抽象基类） \n",
    "\n",
    "所有记忆类的基类，定义了三个核心异步方法：\n",
    "```python\n",
    "async def add(*args, **kwargs)      # 添加记忆\n",
    "async def delete(*args, **kwargs)   # 删除记忆\n",
    "async def retrieve(*args, **kwargs) # 检索记忆\n",
    "```"
   ]
  },
  {
   "cell_type": "code",
   "execution_count": 3,
   "id": "0f596453",
   "metadata": {},
   "outputs": [
    {
     "name": "stdout",
     "output_type": "stream",
     "text": [
      "对话历史:\n",
      "User: 你好！\n",
      "Agent: 你好！有什么我可以帮你的吗？\n"
     ]
    }
   ],
   "source": [
    "from agentscope.memory import InMemoryMemory\n",
    "from agentscope.message import Msg\n",
    "\n",
    "# 创建内存记忆\n",
    "memory = InMemoryMemory()\n",
    "\n",
    "# 添加消息\n",
    "await memory.add(Msg(\"User\", \"你好！\", \"user\"))\n",
    "await memory.add(Msg(\"Agent\", \"你好！有什么我可以帮你的吗？\", \"assistant\"))\n",
    "\n",
    "# 使用正确的方法获取对话历史\n",
    "history = await memory.get_memory()  # 这是一个 list[Msg]\n",
    "\n",
    "print(\"对话历史:\")\n",
    "for msg in history:\n",
    "    print(f\"{msg.name}: {msg.content}\")"
   ]
  },
  {
   "cell_type": "markdown",
   "id": "bd3c6b9f",
   "metadata": {},
   "source": [
    "> 在 ReActAgent 中，若不传 memory 参数，会自动创建一个 InMemoryMemory 实例。"
   ]
  },
  {
   "cell_type": "code",
   "execution_count": 4,
   "id": "dce34441",
   "metadata": {},
   "outputs": [
    {
     "name": "stdout",
     "output_type": "stream",
     "text": [
      "当前内存中有 4 条消息\n",
      "\n",
      "完整对话历史:\n",
      "1. User: 我想了解狼人杀游戏\n",
      "2. Assistant: 狼人杀是一个策略推理游戏...\n",
      "3. User: 游戏有哪些角色？\n",
      "4. Assistant: 主要角色包括：狼人、村民、预言家、女巫等\n",
      "\n",
      "删除后内存大小: 3\n",
      "清空后内存大小: 0\n"
     ]
    }
   ],
   "source": [
    "## 二、InMemoryMemory 详细示例\n",
    "\n",
    "from agentscope.memory import InMemoryMemory\n",
    "from agentscope.message import Msg\n",
    "\n",
    "# 创建内存记忆实例\n",
    "memory = InMemoryMemory()\n",
    "\n",
    "# 添加多条消息\n",
    "messages = [\n",
    "    Msg(\"User\", \"我想了解狼人杀游戏\", \"user\"),\n",
    "    Msg(\"Assistant\", \"狼人杀是一个策略推理游戏...\", \"assistant\"),\n",
    "    Msg(\"User\", \"游戏有哪些角色？\", \"user\"),\n",
    "    Msg(\"Assistant\", \"主要角色包括：狼人、村民、预言家、女巫等\", \"assistant\")\n",
    "]\n",
    "\n",
    "for msg in messages:\n",
    "    await memory.add(msg)\n",
    "\n",
    "# 检查内存大小\n",
    "size = await memory.size()\n",
    "print(f\"当前内存中有 {size} 条消息\")\n",
    "\n",
    "# 获取所有对话历史\n",
    "history = await memory.get_memory()\n",
    "print(\"\\n完整对话历史:\")\n",
    "for i, msg in enumerate(history):\n",
    "    print(f\"{i+1}. {msg.name}: {msg.content}\")\n",
    "\n",
    "# 删除指定索引的消息（删除第一条）\n",
    "await memory.delete(0)\n",
    "print(f\"\\n删除后内存大小: {await memory.size()}\")\n",
    "\n",
    "# 清空内存\n",
    "await memory.clear()\n",
    "print(f\"清空后内存大小: {await memory.size()}\")"
   ]
  },
  {
   "cell_type": "code",
   "execution_count": 5,
   "id": "439e25a3",
   "metadata": {},
   "outputs": [
    {
     "name": "stdout",
     "output_type": "stream",
     "text": [
      "内存状态: {'content': [{'id': 'Urhg3ctFEU6g2mg5Q4vNc5', 'name': 'User', 'role': 'user', 'content': '新的对话开始', 'metadata': None, 'timestamp': '2025-10-02 23:42:37.536'}, {'id': '2F33fgnc8Qz4Zh7nuCf63J', 'name': 'Assistant', 'role': 'assistant', 'content': '好的，我来帮助您', 'metadata': None, 'timestamp': '2025-10-02 23:42:37.536'}]}\n",
      "\n",
      "恢复的对话历史:\n",
      "User: 新的对话开始\n",
      "Assistant: 好的，我来帮助您\n"
     ]
    }
   ],
   "source": [
    "## 三、内存状态保存与加载\n",
    "\n",
    "# 重新添加一些消息\n",
    "await memory.add(Msg(\"User\", \"新的对话开始\", \"user\"))\n",
    "await memory.add(Msg(\"Assistant\", \"好的，我来帮助您\", \"assistant\"))\n",
    "\n",
    "# 保存内存状态\n",
    "state = memory.state_dict()\n",
    "print(\"内存状态:\", state)\n",
    "\n",
    "# 创建新的内存实例并加载状态\n",
    "new_memory = InMemoryMemory()\n",
    "new_memory.load_state_dict(state)\n",
    "\n",
    "# 验证状态是否正确加载\n",
    "restored_history = await new_memory.get_memory()\n",
    "print(\"\\n恢复的对话历史:\")\n",
    "for msg in restored_history:\n",
    "    print(f\"{msg.name}: {msg.content}\")"
   ]
  },
  {
   "cell_type": "code",
   "execution_count": 6,
   "id": "63880deb",
   "metadata": {},
   "outputs": [
    {
     "name": "stdout",
     "output_type": "stream",
     "text": [
      "不允许重复时，内存大小: 1\n",
      "允许重复后，内存大小: 2\n"
     ]
    }
   ],
   "source": [
    "## 四、防重复添加示例\n",
    "\n",
    "# 创建具有相同ID的消息\n",
    "msg1 = Msg(\"User\", \"重复消息测试\", \"user\")\n",
    "msg1.id = \"test_id_001\"\n",
    "\n",
    "msg2 = Msg(\"User\", \"另一条重复消息\", \"user\") \n",
    "msg2.id = \"test_id_001\"  # 相同的ID\n",
    "\n",
    "# 默认不允许重复\n",
    "await memory.clear()\n",
    "await memory.add(msg1)\n",
    "try:\n",
    "    await memory.add(msg2)  # 这会被忽略，因为ID重复\n",
    "except:\n",
    "    pass\n",
    "\n",
    "print(f\"不允许重复时，内存大小: {await memory.size()}\")\n",
    "\n",
    "# 允许重复添加\n",
    "await memory.add(msg2, allow_duplicates=True)\n",
    "print(f\"允许重复后，内存大小: {await memory.size()}\")"
   ]
  },
  {
   "cell_type": "code",
   "execution_count": 7,
   "id": "0edaab7a",
   "metadata": {},
   "outputs": [
    {
     "name": "stdout",
     "output_type": "stream",
     "text": [
      "批量添加后内存大小: 4\n",
      "批量删除后内存大小: 2\n",
      "\n",
      "剩余消息:\n",
      "Player2: 我怀疑Player3是狼人\n",
      "Moderator: 请大家投票\n"
     ]
    }
   ],
   "source": [
    "## 五、批量操作示例\n",
    "\n",
    "# 批量添加消息\n",
    "batch_messages = [\n",
    "    Msg(\"Player1\", \"我是村民\", \"user\"),\n",
    "    Msg(\"Player2\", \"我怀疑Player3是狼人\", \"user\"), \n",
    "    Msg(\"Player3\", \"我不是狼人！\", \"user\"),\n",
    "    Msg(\"Moderator\", \"请大家投票\", \"system\")\n",
    "]\n",
    "\n",
    "await memory.clear()\n",
    "await memory.add(batch_messages)  # 一次性添加多条消息\n",
    "\n",
    "print(f\"批量添加后内存大小: {await memory.size()}\")\n",
    "\n",
    "# 批量删除（删除多个索引）\n",
    "await memory.delete([0, 2])  # 删除索引0和2的消息\n",
    "print(f\"批量删除后内存大小: {await memory.size()}\")\n",
    "\n",
    "remaining_history = await memory.get_memory()\n",
    "print(\"\\n剩余消息:\")\n",
    "for msg in remaining_history:\n",
    "    print(f\"{msg.name}: {msg.content}\")"
   ]
  },
  {
   "cell_type": "code",
   "execution_count": 9,
   "id": "ffa9ec09",
   "metadata": {},
   "outputs": [
    {
     "name": "stdout",
     "output_type": "stream",
     "text": [
      "Agent的初始内存:\n",
      "System: 你是狼人杀游戏的主持人\n",
      "System: 当前游戏有8名玩家参与\n",
      "System: 游戏角色包括：4个村民、2个狼人、1个预言家、1个女巫\n",
      "\n",
      "=== 开始与狼人杀主持人对话 ===\n",
      "GameModerator: 好的，欢迎各位玩家来到这场狼人杀游戏。在我们开始之前，请大家确认已经了解自己的身份，并且准备好进入神秘的夜晚。现在，请所有人闭上眼睛，我们将开始第一个夜晚。\n",
      "\n",
      "【所有玩家请闭眼】\n",
      "GameModerator: 夜晚降临，村民们沉睡了。狼人们，请睁开你们的眼睛，互相确认同伴并选择今晚要袭击的目标。请记住不要发出声音，通过眼神交流做出决定。选择完毕后，请再次闭上眼睛。\n",
      "主持人回复: 夜晚降临，村民们沉睡了。狼人们，请睁开你们的眼睛，互相确认同伴并选择今晚要袭击的目标。请记住不要发出声音，通过眼神交流做出决定。选择完毕后，请再次闭上眼睛。\n",
      "\n",
      "=== 对话后的内存状态 ===\n",
      "1. System: 你是狼人杀游戏的主持人\n",
      "2. System: 当前游戏有8名玩家参与\n",
      "3. System: 游戏角色包括：4个村民、2个狼人、1个预言家、1个女巫\n",
      "4. player1: 主持人，请开始游戏！\n",
      "5. GameModerator: [{'type': 'text', 'text': '好的，欢迎各位玩家来到这场狼人杀游戏。在我们开始之前，请大家确认已经了解自己的身份，并且准备好进入神秘的夜晚。现在，请所有人闭上眼睛，我们将开始第一个夜晚。\\n\\n【所有玩家请闭眼】'}, {'type': 'tool_use', 'id': 'call_089951c9fd944aa1934a25', 'name': 'generate_response', 'input': {'response': '夜晚降临，村民们沉睡了。狼人们，请睁开你们的眼睛，互相确认同伴并选择今晚要袭击的目标。请记住不要发出声音，通过眼神交流做出决定。选择完毕后，请再次闭上眼睛。'}}]\n",
      "6. system: [{'type': 'tool_result', 'id': 'call_089951c9fd944aa1934a25', 'name': 'generate_response', 'output': [{'type': 'text', 'text': 'Successfully generated response.'}]}]\n",
      "7. GameModerator: 夜晚降临，村民们沉睡了。狼人们，请睁开你们的眼睛，互相确认同伴并选择今晚要袭击的目标。请记住不要发出声音，通过眼神交流做出决定。选择完毕后，请再次闭上眼睛。\n"
     ]
    }
   ],
   "source": [
    "## 六、在Agent中使用内存示例\n",
    "\n",
    "from agentscope.agent import ReActAgent\n",
    "from agentscope.model import DashScopeChatModel\n",
    "from agentscope.formatter import DashScopeChatFormatter\n",
    "from agentscope.memory import InMemoryMemory\n",
    "from agentscope.message import Msg\n",
    "from dotenv import load_dotenv\n",
    "import os\n",
    "\n",
    "# 加载环境变量\n",
    "load_dotenv()\n",
    "\n",
    "# 创建自定义内存\n",
    "custom_memory = InMemoryMemory()\n",
    "\n",
    "# 预先添加一些背景信息\n",
    "background_msgs = [\n",
    "    Msg(\"System\", \"你是狼人杀游戏的主持人\", \"system\"),\n",
    "    Msg(\"System\", \"当前游戏有8名玩家参与\", \"system\"),\n",
    "    Msg(\"System\", \"游戏角色包括：4个村民、2个狼人、1个预言家、1个女巫\", \"system\")\n",
    "]\n",
    "\n",
    "for msg in background_msgs:\n",
    "    await custom_memory.add(msg)\n",
    "\n",
    "# 创建狼人杀游戏主持人Agent\n",
    "game_moderator = ReActAgent(\n",
    "    name=\"GameModerator\",\n",
    "    sys_prompt=\"你是一个专业的狼人杀游戏主持人，负责主持游戏流程、宣布游戏结果和维持游戏秩序。\",\n",
    "    model=DashScopeChatModel(\n",
    "        model_name=\"qwen-max\",\n",
    "        api_key=os.environ[\"DASHSCOPE_API_KEY\"],\n",
    "        stream=True,\n",
    "        enable_thinking=True,\n",
    "    ),\n",
    "    formatter=DashScopeChatFormatter(),\n",
    "    memory=custom_memory,  # 使用自定义内存\n",
    ")\n",
    "\n",
    "# 查看Agent的初始内存内容\n",
    "print(\"Agent的初始内存:\")\n",
    "agent_memory = await custom_memory.get_memory()\n",
    "for msg in agent_memory:\n",
    "    print(f\"{msg.name}: {msg.content}\")\n",
    "\n",
    "# 测试Agent功能\n",
    "test_msg = Msg(\n",
    "    name=\"player1\",\n",
    "    content=\"主持人，请开始游戏！\",\n",
    "    role=\"user\"\n",
    ")\n",
    "\n",
    "print(\"\\n=== 开始与狼人杀主持人对话 ===\")\n",
    "response = await game_moderator(test_msg)\n",
    "print(f\"主持人回复: {response.content}\")\n",
    "\n",
    "# 查看对话后的内存状态\n",
    "print(\"\\n=== 对话后的内存状态 ===\")\n",
    "updated_memory = await custom_memory.get_memory()\n",
    "for i, msg in enumerate(updated_memory):\n",
    "    print(f\"{i+1}. {msg.name}: {msg.content}\")"
   ]
  },
  {
   "cell_type": "code",
   "execution_count": 10,
   "id": "da2b1658",
   "metadata": {},
   "outputs": [
    {
     "name": "stdout",
     "output_type": "stream",
     "text": [
      "主持人消息:\n",
      "- 游戏开始，现在是第一天\n",
      "- 请大家开始讨论\n",
      "\n",
      "玩家发言 (4 条):\n",
      "- Player1: 我是预言家，昨晚查验Player2是好人\n",
      "- Player2: 谢谢预言家验证\n",
      "- Player3: 我觉得Player1不像预言家\n",
      "- Player4: 我投Player3\n"
     ]
    }
   ],
   "source": [
    "## 七、内存检索和过滤示例\n",
    "\n",
    "# 添加带有不同角色的消息\n",
    "await memory.clear()\n",
    "game_messages = [\n",
    "    Msg(\"Moderator\", \"游戏开始，现在是第一天\", \"system\"),\n",
    "    Msg(\"Player1\", \"我是预言家，昨晚查验Player2是好人\", \"user\"),\n",
    "    Msg(\"Player2\", \"谢谢预言家验证\", \"user\"),\n",
    "    Msg(\"Player3\", \"我觉得Player1不像预言家\", \"user\"),\n",
    "    Msg(\"Moderator\", \"请大家开始讨论\", \"system\"),\n",
    "    Msg(\"Player4\", \"我投Player3\", \"user\")\n",
    "]\n",
    "\n",
    "for msg in game_messages:\n",
    "    await memory.add(msg)\n",
    "\n",
    "# 虽然InMemoryMemory的retrieve方法为空实现，但我们可以手动过滤\n",
    "all_messages = await memory.get_memory()\n",
    "\n",
    "# 过滤出主持人的消息\n",
    "moderator_messages = [msg for msg in all_messages if msg.name == \"Moderator\"]\n",
    "print(\"主持人消息:\")\n",
    "for msg in moderator_messages:\n",
    "    print(f\"- {msg.content}\")\n",
    "\n",
    "# 过滤出玩家的发言\n",
    "player_messages = [msg for msg in all_messages if msg.name.startswith(\"Player\")]\n",
    "print(f\"\\n玩家发言 ({len(player_messages)} 条):\")\n",
    "for msg in player_messages:\n",
    "    print(f\"- {msg.name}: {msg.content}\")"
   ]
  }
 ],
 "metadata": {
  "kernelspec": {
   "display_name": "werewolves",
   "language": "python",
   "name": "python3"
  },
  "language_info": {
   "codemirror_mode": {
    "name": "ipython",
    "version": 3
   },
   "file_extension": ".py",
   "mimetype": "text/x-python",
   "name": "python",
   "nbconvert_exporter": "python",
   "pygments_lexer": "ipython3",
   "version": "3.12.3"
  }
 },
 "nbformat": 4,
 "nbformat_minor": 5
}
