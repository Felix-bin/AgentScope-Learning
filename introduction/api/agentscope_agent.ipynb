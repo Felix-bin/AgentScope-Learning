{
 "cells": [
  {
   "cell_type": "markdown",
   "id": "6d96078f",
   "metadata": {},
   "source": [
    "# agentscope.agent"
   ]
  },
  {
   "cell_type": "markdown",
   "id": "e694081e",
   "metadata": {},
   "source": [
    "agentscope.agent 模块是 AgentScope  框架中用于构建智能体（Agent）的核心模块。它提供了一套灵活、可扩展的异步智能体基类和常用实现（如 ReActAgent、UserAgent），并支持钩子（hook）、消息观察（observe）、结构化输出、工具调用、记忆管理等高级功能。"
   ]
  },
  {
   "cell_type": "markdown",
   "id": "3fa440c5",
   "metadata": {},
   "source": [
    "一、核心类结构 \n",
    "1. AgentBase \n",
    "\n",
    "    所有智能体的基类，继承自 StateModule。\n",
    "    支持异步操作（async/await）。\n",
    "    提供消息处理、观察、打印、中断处理等基础能力。\n",
    "    支持 实例级 和 类级 的钩子系统（hook system）。\n",
    "     \n",
    "\n",
    "支持的 hook 类型：\n",
    "['pre_reply', 'post_reply', 'pre_print', 'post_print', 'pre_observe', 'post_observe']\n",
    " \n",
    "2. ReActAgentBase 与 ReActAgent \n",
    "\n",
    "    实现了 ReAct（Reason + Act） 算法框架。\n",
    "    在 AgentBase 基础上增加了：\n",
    "        reasoning() 和 acting() 抽象接口（由元类自动调用）\n",
    "        新增 hook 类型：pre_reasoning, post_reasoning, pre_acting, post_acting\n",
    "         \n",
    "    支持：\n",
    "        工具调用（串行/并行）\n",
    "        长期记忆（Long-term Memory）\n",
    "        知识库检索（Knowledge Retrieval）\n",
    "        结构化输出（Structured Output）\n",
    "        实时干预（Realtime Steering）\n",
    "         \n",
    "\n",
    "3. UserAgent \n",
    "\n",
    "    用于模拟“用户”角色，接收真实用户输入（如终端、Web UI）。\n",
    "    可通过 UserInputBase 子类（如 TerminalUserInput, StudioUserInput）自定义输入源。\n",
    "     "
   ]
  },
  {
   "cell_type": "code",
   "execution_count": 3,
   "id": "1e832c39",
   "metadata": {},
   "outputs": [
    {
     "name": "stdout",
     "output_type": "stream",
     "text": [
      "Assistant: 天空之所以呈现蓝色，主要是因为大气中的分子和微小颗粒对太阳光的散射作用。这种现象被称为瑞利散射（Rayleigh scattering）。当阳光进入地球大气层时，它包含了多种颜色的光，这些颜色组合在一起看起来是白色的。但是，不同颜色的光其波长不同，蓝光的波长较短，在遇到气体分子等细小物体时更容易被散射到各个方向。因此当我们抬头看天空时，看到的是被散射了的蓝光居多，使得天空呈现出蔚蓝色。值得注意的是，在日出和日落时分，由于光线需要穿过更厚的大气层，此时蓝光几乎完全被散射掉了，而波长较长的红光则更为显著，所以这时我们能看到更加绚丽多彩的晚霞或朝霞景色。\n",
      "天空之所以呈现蓝色，主要是因为大气中的分子和微小颗粒对太阳光的散射作用。这种现象被称为瑞利散射（Rayleigh scattering）。当阳光进入地球大气层时，它包含了多种颜色的光，这些颜色组合在一起看起来是白色的。但是，不同颜色的光其波长不同，蓝光的波长较短，在遇到气体分子等细小物体时更容易被散射到各个方向。因此当我们抬头看天空时，看到的是被散射了的蓝光居多，使得天空呈现出蔚蓝色。值得注意的是，在日出和日落时分，由于光线需要穿过更厚的大气层，此时蓝光几乎完全被散射掉了，而波长较长的红光则更为显著，所以这时我们能看到更加绚丽多彩的晚霞或朝霞景色。\n"
     ]
    }
   ],
   "source": [
    "from agentscope.agent import ReActAgent\n",
    "from agentscope.model import DashScopeChatModel\n",
    "from agentscope.message import Msg\n",
    "from agentscope.formatter import DashScopeChatFormatter\n",
    "\n",
    "import os\n",
    "from dotenv import load_dotenv\n",
    "load_dotenv()\n",
    "# 初始化模型（需配置 API key）\n",
    "model = DashScopeChatModel(\n",
    "            model_name=\"qwen-max\",\n",
    "            api_key=os.environ[\"DASHSCOPE_API_KEY\"],\n",
    "            stream=False,\n",
    "        )\n",
    "\n",
    "# 使用默认 formatter\n",
    "formatter = DashScopeChatFormatter()\n",
    "\n",
    "# 创建 ReAct 智能体\n",
    "agent = ReActAgent(\n",
    "    name=\"Assistant\",\n",
    "    sys_prompt=\"你是一个乐于助人的 AI 助手。\",\n",
    "    model=model,\n",
    "    formatter=formatter,\n",
    "    max_iters=5,\n",
    ")\n",
    "\n",
    "# 发送消息并获取回复\n",
    "user_msg = Msg(name=\"User\", content=\"天空为什么是蓝色\", role=\"user\")\n",
    "response = await agent.reply(user_msg)\n",
    "print(response.content)"
   ]
  },
  {
   "cell_type": "code",
   "execution_count": 6,
   "id": "4c277e1c",
   "metadata": {},
   "outputs": [
    {
     "name": "stdout",
     "output_type": "stream",
     "text": [
      "[Hook] Assistant 即将开始回复...\n",
      "Assistant: 你好！有什么我可以帮到你的吗？\n",
      "[Hook] Assistant 回复完成: {'msg': Msg(id='h8eZjxqBevEAm4QvNjvDG9', name='User', content='你好！', role='user', metadata=None, timestamp='2025-10-02 23:25:06.639', invocation_id='None'), 'structured_model': None}\n"
     ]
    },
    {
     "data": {
      "text/plain": [
       "Msg(id='Si5Zv7iepasAnsgzNDAK37', name='Assistant', content='你好！有什么我可以帮到你的吗？', role='assistant', metadata=None, timestamp='2025-10-02 23:25:07.690', invocation_id='None')"
      ]
     },
     "execution_count": 6,
     "metadata": {},
     "output_type": "execute_result"
    }
   ],
   "source": [
    "def log_pre_reply(agent, *args, **kwargs):\n",
    "    print(f\"[Hook] {agent.name} 即将开始回复...\")\n",
    "\n",
    "def log_post_reply(agent, result, *args, **kwargs):\n",
    "    # 处理不同的结果格式\n",
    "    if hasattr(result, 'content'):\n",
    "        # 如果是 Msg 对象\n",
    "        content = result.content\n",
    "    elif isinstance(result, dict):\n",
    "        # 如果是字典，尝试获取 content 或其他字段\n",
    "        content = result.get('content', result.get('text', str(result)))\n",
    "    else:\n",
    "        # 其他情况，直接转为字符串\n",
    "        content = str(result)\n",
    "    \n",
    "    print(f\"[Hook] {agent.name} 回复完成: {content}\")\n",
    "\n",
    "# 注册实例级钩子\n",
    "agent.register_instance_hook(\"pre_reply\", \"log_start\", log_pre_reply)\n",
    "agent.register_instance_hook(\"post_reply\", \"log_end\", log_post_reply)\n",
    "\n",
    "# 调用 reply 会触发钩子\n",
    "await agent.reply(Msg(\"User\", \"你好！\", \"user\"))"
   ]
  },
  {
   "cell_type": "code",
   "execution_count": 7,
   "id": "94ce3e1e",
   "metadata": {},
   "outputs": [
    {
     "name": "stdout",
     "output_type": "stream",
     "text": [
      "Human: 你好\n",
      "用户输入: 你好\n"
     ]
    }
   ],
   "source": [
    "from agentscope.agent import UserAgent, TerminalUserInput\n",
    "\n",
    "# 创建用户代理，从终端读取输入\n",
    "user_agent = UserAgent(name=\"Human\")\n",
    "user_agent.override_instance_input_method(TerminalUserInput(input_hint=\"请输入你的问题: \"))\n",
    "\n",
    "# 等待用户输入\n",
    "user_msg = await user_agent.reply()\n",
    "print(f\"用户输入: {user_msg.content}\")"
   ]
  }
 ],
 "metadata": {
  "kernelspec": {
   "display_name": "werewolves",
   "language": "python",
   "name": "python3"
  },
  "language_info": {
   "codemirror_mode": {
    "name": "ipython",
    "version": 3
   },
   "file_extension": ".py",
   "mimetype": "text/x-python",
   "name": "python",
   "nbconvert_exporter": "python",
   "pygments_lexer": "ipython3",
   "version": "3.12.3"
  }
 },
 "nbformat": 4,
 "nbformat_minor": 5
}
