{
 "cells": [
  {
   "cell_type": "markdown",
   "id": "c03ab334",
   "metadata": {},
   "source": [
    "# agentscope.pipeline"
   ]
  },
  {
   "cell_type": "markdown",
   "id": "51792b24",
   "metadata": {},
   "source": [
    "agentscope.pipeline 模块提供了用于构建 多智能体协作流程 的高级工具，包括消息广播、顺序执行、并行分发、流式输出等功能。它通过上下文管理器（如 MsgHub）和异步管道（如 SequentialPipeline、FanoutPipeline）简化复杂多智能体系统的编排。"
   ]
  },
  {
   "cell_type": "markdown",
   "id": "1f687375",
   "metadata": {},
   "source": [
    "## 1. MsgHub：自动消息广播中心 \n",
    "在 with MsgHub(...): 块中，任意智能体的回复会自动广播给所有参与者。等价于手动调用 observe()，但更简洁。\n",
    "\n",
    "参数 \n",
    "- participants: 参与的智能体列表（List[AgentBase]）\n",
    "- announcement: 进入上下文时广播的初始消息（可选）\n",
    "- enable_auto_broadcast: 是否启用自动广播（默认 True）\n",
    "- name: 名称（用于调试）\n",
    "     "
   ]
  },
  {
   "cell_type": "code",
   "execution_count": 6,
   "id": "42ed59d3",
   "metadata": {},
   "outputs": [
    {
     "name": "stdout",
     "output_type": "stream",
     "text": [
      "Alice: 你好！很高兴见到你。有什么我可以帮到你的吗？\n",
      "Alice 说: 你好！很高兴见到你。有什么我可以帮到你的吗？\n"
     ]
    },
    {
     "name": "stderr",
     "output_type": "stream",
     "text": [
      "/tmp/ipykernel_167830/744756880.py:31: RuntimeWarning: coroutine 'ReActAgent.observe' was never awaited\n",
      "  bob.observe(msg1)\n",
      "RuntimeWarning: Enable tracemalloc to get the object allocation traceback\n"
     ]
    },
    {
     "name": "stdout",
     "output_type": "stream",
     "text": [
      "Bob: 您好！有什么问题我可以帮到您吗？\n",
      "Bob 说: 您好！有什么问题我可以帮到您吗？\n"
     ]
    }
   ],
   "source": [
    "from agentscope.agent import ReActAgent\n",
    "from agentscope.message import Msg\n",
    "from agentscope.pipeline import MsgHub\n",
    "from agentscope.model import DashScopeChatModel\n",
    "from agentscope.formatter import DashScopeChatFormatter\n",
    "import os\n",
    "from dotenv import load_dotenv\n",
    "load_dotenv()\n",
    "# 初始化模型（需配置 API key）\n",
    "model = DashScopeChatModel(\n",
    "            model_name=\"qwen-max\",\n",
    "            api_key=os.environ[\"DASHSCOPE_API_KEY\"],\n",
    "            stream=False,\n",
    "        )\n",
    "formatter = DashScopeChatFormatter()\n",
    "\n",
    "# 创建两个智能体\n",
    "alice = ReActAgent(name=\"Alice\", sys_prompt=\"你叫 Alice，性格开朗。\", model=model, formatter=formatter)\n",
    "bob = ReActAgent(name=\"Bob\", sys_prompt=\"你叫 Bob，喜欢提问。\", model=model, formatter=formatter)\n",
    "\n",
    "# 使用 MsgHub 自动广播（不使用 with 语句）\n",
    "async def multi_agent_chat():\n",
    "    # 创建 MsgHub 实例\n",
    "    hub = MsgHub(participants=[alice, bob])\n",
    "    \n",
    "    # Alice 先发言\n",
    "    msg1 = await alice.reply(Msg(\"user\", \"大家好！\", \"user\"))\n",
    "    print(f\"Alice 说: {msg1.content}\")\n",
    "    \n",
    "    # 手动让 Bob 观察 Alice 的消息\n",
    "    bob.observe(msg1)\n",
    "    \n",
    "    # Bob 基于上下文回复\n",
    "    msg2 = await bob.reply()\n",
    "    print(f\"Bob 说: {msg2.content}\")\n",
    "\n",
    "# 在 Jupyter 中直接使用 await\n",
    "await multi_agent_chat()"
   ]
  },
  {
   "cell_type": "markdown",
   "id": "8825fc05",
   "metadata": {},
   "source": [
    "二、SequentialPipeline：顺序流水线 \n",
    "功能说明 \n",
    "\n",
    "    将多个智能体串行执行，前一个的输出作为后一个的输入。\n",
    "    最终返回最后一个智能体的输出。\n",
    "     \n",
    "\n",
    "函数式 vs 类式 \n",
    "\n",
    "    sequential_pipeline(agents, msg)：一次性函数调用（推荐简单场景）\n",
    "    SequentialPipeline 类：可复用、配置化（适合复杂系统）\n",
    "     "
   ]
  },
  {
   "cell_type": "code",
   "execution_count": 7,
   "id": "982dac5c",
   "metadata": {},
   "outputs": [
    {
     "name": "stdout",
     "output_type": "stream",
     "text": [
      "Alice: AgentScope 是一个用于创建智能体的框架。它提供了一套工具和结构，帮助开发者设计和实现具备特定功能的智能体系统。简而言之，它简化了构建智能体软件的过程。\n",
      "如果需要更详细的总结或有其他具体方面想要了解，请告诉我！\n",
      "Bob: 您是想要了解 AgentScope 的具体应用案例还是其他相关信息呢？\n",
      "最终结果: 您是想要了解 AgentScope 的具体应用案例还是其他相关信息呢？\n"
     ]
    }
   ],
   "source": [
    "from agentscope.pipeline import sequential_pipeline\n",
    "\n",
    "# 假设已创建 agent1, agent2, agent3（类型为 ReActAgent 或 UserAgent）\n",
    "msg_input = Msg(\"user\", \"请总结以下内容：AgentScope 是一个智能体框架。\", \"user\")\n",
    "\n",
    "msg_output = await sequential_pipeline(\n",
    "    agents=[alice,bob],\n",
    "    msg=msg_input\n",
    ")\n",
    "print(\"最终结果:\", msg_output.content)"
   ]
  },
  {
   "cell_type": "markdown",
   "id": "91df2282",
   "metadata": {},
   "source": [
    "三、FanoutPipeline：并行分发（扇出） \n",
    "功能说明 \n",
    "\n",
    "    将同一输入分发给多个智能体。\n",
    "    支持 并发执行（默认）或 顺序执行。\n",
    "    返回所有智能体的输出列表。\n",
    "     \n",
    "\n",
    "两种使用方式 \n",
    "\n",
    "    函数式：fanout_pipeline(agents, msg, enable_gather=True)\n",
    "    类式：FanoutPipeline(agents, enable_gather=True)，可复用\n",
    "     "
   ]
  },
  {
   "cell_type": "code",
   "execution_count": 9,
   "id": "8de41325",
   "metadata": {},
   "outputs": [
    {
     "name": "stdout",
     "output_type": "stream",
     "text": [
      "ScienceExpert: 人工智能（Artificial Intelligence，简称AI）是一个跨学科的领域，它结合了计算机科学、数学、统计学、逻辑学、哲学、心理学等多方面的知识。从科学专家的角度来看，人工智能可以被定义为一种使机器能够执行通常需要人类智能才能完成的任务的技术。\n",
      "\n",
      "在物理层面，人工智能依赖于复杂的计算硬件，这些硬件能够快速处理大量数据和执行复杂算法。这包括中央处理器（CPU）、图形处理器（GPU），以及专门设计用于加速机器学习任务的张量处理单元（TPU）等。\n",
      "\n",
      "在化学层面，虽然直接与人工智能相关的化学内容较少，但是半导体材料的研究与发展对于制造高性能的电子设备至关重要，而这些设备是支撑现代人工智能技术的基础设施。此外，随着纳米技术和新材料的发展，未来可能会有更加高效和小型化的计算元件出现，从而推动人工智能的进步。\n",
      "\n",
      "生物角度的人工智能则涉及到神经网络的设计，这是一种受到人脑结构启发的计算模型。人工神经网络模仿了大脑中神经元之间的连接方式，通过层次化的方式组织起来，以便于处理信息和学习数据中的模式。深度学习就是一种基于深层神经网络的方法，它已经在图像识别、语音识别、自然语言处理等领域取得了显著成就。\n",
      "\n",
      "总的来说，人工智能是一种模拟人类智能行为的技术，它通过算法和大量的数据训练来实现诸如感知环境、理解语言、解决问题、学习新知等功能。随着技术的发展，人工智能正在变得越来越强大，并且在医疗、教育、交通、娱乐等多个行业中发挥着重要作用。同时，这也带来了关于隐私、伦理和社会影响等方面的讨论。\n",
      "HistoryExpert: 作为一位历史专家，我的专业领域主要集中在对过去事件、文化、社会结构以及人类行为的研究上。然而，“人工智能”（Artificial Intelligence, AI）是一个现代科技概念，属于计算机科学和工程学的范畴。尽管如此，我可以尝试从一个跨学科的角度来提供一些关于人工智能的基本解释。\n",
      "\n",
      "人工智能是指由人制造出来的具有一定智能的系统，它能够理解复杂的环境信息，并且可以像人一样进行思考、学习和解决问题。AI系统通常包括以下几个关键方面：\n",
      "\n",
      "1. **机器学习**：这是一种让计算机通过数据而不是明确编程指令来学习的技术。机器学习算法可以从大量数据中提取模式，然后使用这些模式来进行预测或决策。\n",
      "2. **深度学习**：这是机器学习的一个子集，它模仿了人脑处理信息的方式，利用多层神经网络来解析各种类型的数据，如图像、声音和文本。\n",
      "3. **自然语言处理**（NLP）：这个领域专注于开发能够让计算机理解和生成人类语言的技术。NLP技术被广泛应用于语音识别、翻译服务以及聊天机器人等应用中。\n",
      "4. **专家系统**：这类AI程序旨在模拟某一特定领域的专家知识与推理能力，以解决复杂问题或提供建议。\n",
      "\n",
      "随着时间的发展，人工智能已经渗透到了我们生活的方方面面，从智能手机助手到自动驾驶汽车，再到医疗诊断工具等等。尽管取得了显著进步，但当前的人工智能仍处于其发展的早期阶段，未来还有很大的发展空间。\n",
      "\n",
      "值得注意的是，在历史上也有过对于自动化工具和“思维机器”的探索，比如古希腊时期的自动装置或是中国宋代发明的指南车等。虽然这些早期尝试与今天意义上的AI有着本质区别，但它们反映了人类长期以来追求创造智能机器的愿望。\n",
      "MathExpert: 作为一名数学专家，我可以从数学和计算的角度来解释“人工智能”（Artificial Intelligence, AI）这一概念。人工智能是计算机科学的一个分支，它试图创建能够模仿人类智能行为的系统或软件。这些行为包括学习（获取信息并根据信息调整策略）、推理（使用规则达到近似或明确的结论）、自我修正、语言理解、模式识别以及解决问题等。\n",
      "\n",
      "在实现上，AI依赖于多种技术和理论，其中包括：\n",
      "\n",
      "1. **机器学习**（Machine Learning, ML）: 通过算法让计算机从数据中自动分析获得规律，并利用规律对未知数据进行预测。它是人工智能的核心研究领域之一。机器学习可以分为监督学习、无监督学习、半监督学习和强化学习等。\n",
      "\n",
      "2. **深度学习**（Deep Learning, DL）: 是机器学习的一种形式，特别强调构建多层的神经网络模型来模拟人脑处理信息的方式。这种模型可以用来识别复杂的模式，例如图像中的物体、语音中的单词或者文本中的情感倾向。\n",
      "\n",
      "3. **自然语言处理**（Natural Language Processing, NLP）: 让计算机理解和生成人类的自然语言。NLP技术使得机器能够阅读文字、理解口语、进行翻译等工作。\n",
      "\n",
      "4. **知识表示与推理**（Knowledge Representation and Reasoning）: 将现实世界的信息以一种可被计算机处理的形式表达出来，并基于这些信息进行逻辑推理。\n",
      "\n",
      "5. **搜索算法**（Search Algorithms）: 在大量可能性中找到最优解的技术，如路径规划、游戏树搜索等。\n",
      "\n",
      "6. **遗传算法**（Genetic Algorithms）: 受生物进化启发的一种优化技术，用于解决复杂问题。\n",
      "\n",
      "7. **模糊逻辑**（Fuzzy Logic）: 一种处理部分真实性的逻辑方法，允许值之间的过渡而不是严格的二元对立。\n",
      "\n",
      "8. **专家系统**（Expert Systems）: 模拟某一领域的专家决策能力，通过一系列的规则和事实库来提供咨询或解决方案。\n",
      "\n",
      "数学在人工智能的发展中扮演了极其重要的角色。线性代数、概率论、统计学、微积分、优化理论等数学分支为AI提供了坚实的理论基础。比如，线性代数对于理解和支持向量机、主成分分析等算法至关重要；概率论与统计学则广泛应用于贝叶斯网络、马尔科夫决策过程等领域；微积分和优化理论则是梯度下降等优化算法的基础，而这些算法又是训练神经网络的关键所在。\n",
      "\n",
      "总之，人工智能是一个跨学科领域，不仅需要计算机科学的知识，还需要深厚的数学背景来支撑其算法的设计和实现。随着算法的进步和计算能力的增强，AI正变得越来越强大，逐渐渗透到我们生活的方方面面。\n",
      "专家 1 回答: 作为一名数学专家，我可以从数学和计算的角度来解释“人工智能”（Artificial Intelligence, AI）这一概念。人工智能是计算机科学的一个分支，它试图创建能够模仿人类智能行为的系统或软件。这些行为包括学习（获取信息并根据信息调整策略）、推理（使用规则达到近似或明确的结论）、自我修正、语言理解、模式识别以及解决问题等。\n",
      "\n",
      "在实现上，AI依赖于多种技术和理论，其中包括：\n",
      "\n",
      "1. **机器学习**（Machine Learning, ML）: 通过算法让计算机从数据中自动分析获得规律，并利用规律对未知数据进行预测。它是人工智能的核心研究领域之一。机器学习可以分为监督学习、无监督学习、半监督学习和强化学习等。\n",
      "\n",
      "2. **深度学习**（Deep Learning, DL）: 是机器学习的一种形式，特别强调构建多层的神经网络模型来模拟人脑处理信息的方式。这种模型可以用来识别复杂的模式，例如图像中的物体、语音中的单词或者文本中的情感倾向。\n",
      "\n",
      "3. **自然语言处理**（Natural Language Processing, NLP）: 让计算机理解和生成人类的自然语言。NLP技术使得机器能够阅读文字、理解口语、进行翻译等工作。\n",
      "\n",
      "4. **知识表示与推理**（Knowledge Representation and Reasoning）: 将现实世界的信息以一种可被计算机处理的形式表达出来，并基于这些信息进行逻辑推理。\n",
      "\n",
      "5. **搜索算法**（Search Algorithms）: 在大量可能性中找到最优解的技术，如路径规划、游戏树搜索等。\n",
      "\n",
      "6. **遗传算法**（Genetic Algorithms）: 受生物进化启发的一种优化技术，用于解决复杂问题。\n",
      "\n",
      "7. **模糊逻辑**（Fuzzy Logic）: 一种处理部分真实性的逻辑方法，允许值之间的过渡而不是严格的二元对立。\n",
      "\n",
      "8. **专家系统**（Expert Systems）: 模拟某一领域的专家决策能力，通过一系列的规则和事实库来提供咨询或解决方案。\n",
      "\n",
      "数学在人工智能的发展中扮演了极其重要的角色。线性代数、概率论、统计学、微积分、优化理论等数学分支为AI提供了坚实的理论基础。比如，线性代数对于理解和支持向量机、主成分分析等算法至关重要；概率论与统计学则广泛应用于贝叶斯网络、马尔科夫决策过程等领域；微积分和优化理论则是梯度下降等优化算法的基础，而这些算法又是训练神经网络的关键所在。\n",
      "\n",
      "总之，人工智能是一个跨学科领域，不仅需要计算机科学的知识，还需要深厚的数学背景来支撑其算法的设计和实现。随着算法的进步和计算能力的增强，AI正变得越来越强大，逐渐渗透到我们生活的方方面面。\n",
      "专家 2 回答: 作为一位历史专家，我的专业领域主要集中在对过去事件、文化、社会结构以及人类行为的研究上。然而，“人工智能”（Artificial Intelligence, AI）是一个现代科技概念，属于计算机科学和工程学的范畴。尽管如此，我可以尝试从一个跨学科的角度来提供一些关于人工智能的基本解释。\n",
      "\n",
      "人工智能是指由人制造出来的具有一定智能的系统，它能够理解复杂的环境信息，并且可以像人一样进行思考、学习和解决问题。AI系统通常包括以下几个关键方面：\n",
      "\n",
      "1. **机器学习**：这是一种让计算机通过数据而不是明确编程指令来学习的技术。机器学习算法可以从大量数据中提取模式，然后使用这些模式来进行预测或决策。\n",
      "2. **深度学习**：这是机器学习的一个子集，它模仿了人脑处理信息的方式，利用多层神经网络来解析各种类型的数据，如图像、声音和文本。\n",
      "3. **自然语言处理**（NLP）：这个领域专注于开发能够让计算机理解和生成人类语言的技术。NLP技术被广泛应用于语音识别、翻译服务以及聊天机器人等应用中。\n",
      "4. **专家系统**：这类AI程序旨在模拟某一特定领域的专家知识与推理能力，以解决复杂问题或提供建议。\n",
      "\n",
      "随着时间的发展，人工智能已经渗透到了我们生活的方方面面，从智能手机助手到自动驾驶汽车，再到医疗诊断工具等等。尽管取得了显著进步，但当前的人工智能仍处于其发展的早期阶段，未来还有很大的发展空间。\n",
      "\n",
      "值得注意的是，在历史上也有过对于自动化工具和“思维机器”的探索，比如古希腊时期的自动装置或是中国宋代发明的指南车等。虽然这些早期尝试与今天意义上的AI有着本质区别，但它们反映了人类长期以来追求创造智能机器的愿望。\n",
      "专家 3 回答: 人工智能（Artificial Intelligence，简称AI）是一个跨学科的领域，它结合了计算机科学、数学、统计学、逻辑学、哲学、心理学等多方面的知识。从科学专家的角度来看，人工智能可以被定义为一种使机器能够执行通常需要人类智能才能完成的任务的技术。\n",
      "\n",
      "在物理层面，人工智能依赖于复杂的计算硬件，这些硬件能够快速处理大量数据和执行复杂算法。这包括中央处理器（CPU）、图形处理器（GPU），以及专门设计用于加速机器学习任务的张量处理单元（TPU）等。\n",
      "\n",
      "在化学层面，虽然直接与人工智能相关的化学内容较少，但是半导体材料的研究与发展对于制造高性能的电子设备至关重要，而这些设备是支撑现代人工智能技术的基础设施。此外，随着纳米技术和新材料的发展，未来可能会有更加高效和小型化的计算元件出现，从而推动人工智能的进步。\n",
      "\n",
      "生物角度的人工智能则涉及到神经网络的设计，这是一种受到人脑结构启发的计算模型。人工神经网络模仿了大脑中神经元之间的连接方式，通过层次化的方式组织起来，以便于处理信息和学习数据中的模式。深度学习就是一种基于深层神经网络的方法，它已经在图像识别、语音识别、自然语言处理等领域取得了显著成就。\n",
      "\n",
      "总的来说，人工智能是一种模拟人类智能行为的技术，它通过算法和大量的数据训练来实现诸如感知环境、理解语言、解决问题、学习新知等功能。随着技术的发展，人工智能正在变得越来越强大，并且在医疗、教育、交通、娱乐等多个行业中发挥着重要作用。同时，这也带来了关于隐私、伦理和社会影响等方面的讨论。\n"
     ]
    }
   ],
   "source": [
    "from agentscope.pipeline import fanout_pipeline\n",
    "\n",
    "# 创建三个“专家”智能体\n",
    "expert1 = ReActAgent(\n",
    "    name=\"MathExpert\",\n",
    "    sys_prompt=\"你是数学专家，擅长解答数学问题。\",\n",
    "    model=model,\n",
    "    formatter=formatter\n",
    ")\n",
    "\n",
    "expert2 = ReActAgent(\n",
    "    name=\"HistoryExpert\",\n",
    "    sys_prompt=\"你是历史专家，精通世界历史和中国历史。\",\n",
    "    model=model,\n",
    "    formatter=formatter\n",
    ")\n",
    "\n",
    "expert3 = ReActAgent(\n",
    "    name=\"ScienceExpert\",\n",
    "    sys_prompt=\"你是科学专家，熟悉物理、化学和生物知识。\",\n",
    "    model=model,\n",
    "    formatter=formatter\n",
    ")\n",
    "\n",
    "question = Msg(\"user\", \"请从你的专业角度解释‘人工智能’。\", \"user\")\n",
    "\n",
    "# 并发执行（默认）\n",
    "responses = await fanout_pipeline(\n",
    "    agents=[expert1, expert2, expert3],\n",
    "    msg=question\n",
    ")\n",
    "\n",
    "for i, resp in enumerate(responses):\n",
    "    print(f\"专家 {i+1} 回答: {resp.content}\")"
   ]
  }
 ],
 "metadata": {
  "kernelspec": {
   "display_name": "werewolves",
   "language": "python",
   "name": "python3"
  },
  "language_info": {
   "codemirror_mode": {
    "name": "ipython",
    "version": 3
   },
   "file_extension": ".py",
   "mimetype": "text/x-python",
   "name": "python",
   "nbconvert_exporter": "python",
   "pygments_lexer": "ipython3",
   "version": "3.12.3"
  }
 },
 "nbformat": 4,
 "nbformat_minor": 5
}
