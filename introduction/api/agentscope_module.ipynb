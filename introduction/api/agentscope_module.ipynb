{
 "cells": [
  {
   "cell_type": "markdown",
   "id": "3dfe1a7f",
   "metadata": {},
   "source": [
    "# agentscope.moudle"
   ]
  },
  {
   "cell_type": "markdown",
   "id": "218d03f6",
   "metadata": {},
   "source": [
    "agentscope.module 模块提供了一个名为 StateModule 的类，用于支持 嵌套状态的序列化与反序列化。这对于需要保存和恢复复杂对象状态（如智能体、模块、训练状态等）的场景非常有用。 \n",
    "\n",
    "StateModule 提供以下三个核心方法： \n",
    "- register_state(attr_name, custom_to_json=None, custom_from_json=None)  注册一个属性，使其在状态保存/加载时被自动处理。 \n",
    "- state_dict()  获取当前模块及其嵌套模块的完整状态字典（可 JSON 序列化）。 \n",
    "- load_state_dict(state_dict, strict=True)  从状态字典中恢复模块状态。 \n",
    "     "
   ]
  },
  {
   "cell_type": "markdown",
   "id": "c9992d4b",
   "metadata": {},
   "source": [
    "## register_state \n",
    "\n",
    "用于将某个属性纳入状态管理。可以指定自定义的序列化/反序列化函数。 "
   ]
  },
  {
   "cell_type": "code",
   "execution_count": 1,
   "id": "0cdff921",
   "metadata": {},
   "outputs": [],
   "source": [
    "from agentscope.module import StateModule\n",
    "import json\n",
    "\n",
    "class MyModule(StateModule):\n",
    "    def __init__(self):\n",
    "        super().__init__()\n",
    "        self.counter = 0\n",
    "        self.data = {\"a\": 1, \"b\": [2, 3]}\n",
    "        # 注册普通属性（自动使用 json.dumps / json.loads）\n",
    "        self.register_state(\"counter\")\n",
    "        self.register_state(\"data\")\n",
    "\n",
    "    def increment(self):\n",
    "        self.counter += 1"
   ]
  },
  {
   "cell_type": "markdown",
   "id": "924cdc13",
   "metadata": {},
   "source": [
    "## state_dict \n",
    "\n",
    "获取当前状态字典，包括所有已注册的属性，以及嵌套的 StateModule 子模块。 "
   ]
  },
  {
   "cell_type": "code",
   "execution_count": 2,
   "id": "bb031437",
   "metadata": {},
   "outputs": [
    {
     "name": "stdout",
     "output_type": "stream",
     "text": [
      "{\n",
      "  \"counter\": 1,\n",
      "  \"data\": {\n",
      "    \"a\": 1,\n",
      "    \"b\": [\n",
      "      2,\n",
      "      3\n",
      "    ]\n",
      "  }\n",
      "}\n"
     ]
    }
   ],
   "source": [
    "module = MyModule()\n",
    "module.increment()\n",
    "sd = module.state_dict()\n",
    "print(json.dumps(sd, indent=2))"
   ]
  },
  {
   "cell_type": "markdown",
   "id": "6ff409d9",
   "metadata": {},
   "source": [
    "## load_state_dict \n",
    "\n",
    "从状态字典恢复状态： "
   ]
  },
  {
   "cell_type": "code",
   "execution_count": 3,
   "id": "6a10d2c0",
   "metadata": {},
   "outputs": [
    {
     "name": "stdout",
     "output_type": "stream",
     "text": [
      "1\n"
     ]
    }
   ],
   "source": [
    "new_module = MyModule()\n",
    "new_module.load_state_dict(sd)\n",
    "print(new_module.counter)  # 输出: 1"
   ]
  },
  {
   "cell_type": "markdown",
   "id": "c5eb7e51",
   "metadata": {},
   "source": [
    "StateModule 支持嵌套，即一个 StateModule 中包含另一个 StateModule 实例，状态会自动递归保存/加载。"
   ]
  },
  {
   "cell_type": "code",
   "execution_count": 4,
   "id": "57e05c93",
   "metadata": {},
   "outputs": [
    {
     "name": "stdout",
     "output_type": "stream",
     "text": [
      "{\n",
      "  \"sub\": {\n",
      "    \"value\": 42\n",
      "  }\n",
      "}\n"
     ]
    }
   ],
   "source": [
    "class SubModule(StateModule):\n",
    "    def __init__(self, value):\n",
    "        super().__init__()\n",
    "        self.value = value\n",
    "        self.register_state(\"value\")\n",
    "\n",
    "class MainModule(StateModule):\n",
    "    def __init__(self):\n",
    "        super().__init__()\n",
    "        self.sub = SubModule(42)\n",
    "        # 注意：不需要显式 register_state(\"sub\")\n",
    "        # 因为 sub 是 StateModule 子类，会自动被识别并序列化\n",
    "\n",
    "main = MainModule()\n",
    "sd = main.state_dict()\n",
    "print(json.dumps(sd, indent=2))"
   ]
  },
  {
   "cell_type": "code",
   "execution_count": 5,
   "id": "e8588821",
   "metadata": {},
   "outputs": [
    {
     "name": "stdout",
     "output_type": "stream",
     "text": [
      "42\n"
     ]
    }
   ],
   "source": [
    "main2 = MainModule()\n",
    "main2.load_state_dict(sd)\n",
    "print(main2.sub.value)  # 输出: 42"
   ]
  },
  {
   "cell_type": "markdown",
   "id": "7e71df33",
   "metadata": {},
   "source": [
    "对于不能直接 JSON 序列化的对象（如 datetime、自定义类等），可提供 custom_to_json 和 custom_from_json。"
   ]
  },
  {
   "cell_type": "code",
   "execution_count": 6,
   "id": "a577124d",
   "metadata": {},
   "outputs": [
    {
     "name": "stdout",
     "output_type": "stream",
     "text": [
      "2025-10-02 23:13:44.250312\n"
     ]
    }
   ],
   "source": [
    "from datetime import datetime\n",
    "\n",
    "class TimeModule(StateModule):\n",
    "    def __init__(self):\n",
    "        super().__init__()\n",
    "        self.timestamp = datetime.now()\n",
    "        self.register_state(\n",
    "            \"timestamp\",\n",
    "            custom_to_json=lambda dt: dt.isoformat(),\n",
    "            custom_from_json=lambda s: datetime.fromisoformat(s)\n",
    "        )\n",
    "\n",
    "tm = TimeModule()\n",
    "sd = tm.state_dict()\n",
    "tm2 = TimeModule()\n",
    "tm2.load_state_dict(sd)\n",
    "print(tm2.timestamp)  # 恢复后的 datetime 对象"
   ]
  },
  {
   "cell_type": "markdown",
   "id": "fe504dc0",
   "metadata": {},
   "source": [
    "## strict 参数说明 \n",
    "strict=True（默认）：如果 state_dict 缺少模块中已注册的 key，会抛出异常。\n",
    "\n",
    "strict=False：忽略缺失的 key，只加载存在的部分。\n",
    "     "
   ]
  },
  {
   "cell_type": "code",
   "execution_count": 7,
   "id": "cf2ba6a6",
   "metadata": {},
   "outputs": [],
   "source": [
    "partial_sd = {\"counter\": 99}  # 缺少 \"data\"\n",
    "module = MyModule()\n",
    "module.load_state_dict(partial_sd, strict=False)  # 成功，data 保持原值\n",
    "# module.load_state_dict(partial_sd, strict=True)  # 报错！"
   ]
  }
 ],
 "metadata": {
  "kernelspec": {
   "display_name": "werewolves",
   "language": "python",
   "name": "python3"
  },
  "language_info": {
   "codemirror_mode": {
    "name": "ipython",
    "version": 3
   },
   "file_extension": ".py",
   "mimetype": "text/x-python",
   "name": "python",
   "nbconvert_exporter": "python",
   "pygments_lexer": "ipython3",
   "version": "3.12.3"
  }
 },
 "nbformat": 4,
 "nbformat_minor": 5
}
